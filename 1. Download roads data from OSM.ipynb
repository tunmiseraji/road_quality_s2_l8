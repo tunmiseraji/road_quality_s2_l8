{
 "cells": [
  {
   "cell_type": "markdown",
   "id": "8a509493",
   "metadata": {},
   "source": [
    "# Import dependencies"
   ]
  },
  {
   "cell_type": "code",
   "execution_count": 5,
   "id": "c6d3fccd",
   "metadata": {
    "ExecuteTime": {
     "end_time": "2024-09-27T23:00:00.095956Z",
     "start_time": "2024-09-27T23:00:00.089080Z"
    }
   },
   "outputs": [
    {
     "name": "stdout",
     "output_type": "stream",
     "text": [
      "pandas version: 1.5.3\n",
      "numpy version: 1.23.5\n",
      "requests version: 2.29.0\n",
      "geopandas version: 0.13.2\n",
      "shapely version: 2.0.4\n"
     ]
    }
   ],
   "source": [
    "import pandas as pd       \n",
    "import numpy as np    \n",
    "import requests           \n",
    "import geopandas as gpd    \n",
    "import shapely\n",
    "from shapely.geometry import LineString  \n",
    "\n",
    "print(f\"pandas version: {pd.__version__}\")\n",
    "print(f\"numpy version: {np.__version__}\")\n",
    "print(f\"requests version: {requests.__version__}\")\n",
    "print(f\"geopandas version: {gpd.__version__}\")\n",
    "print(f\"shapely version: {shapely.__version__}\")"
   ]
  },
  {
   "cell_type": "markdown",
   "id": "f82a3e59",
   "metadata": {},
   "source": [
    "# Download roads"
   ]
  },
  {
   "cell_type": "code",
   "execution_count": null,
   "id": "61a89a9c",
   "metadata": {},
   "outputs": [],
   "source": [
    "# Define the Overpass API URL\n",
    "overpass_url = \"http://overpass-api.de/api/interpreter\"\n",
    "\n",
    "# Define the bounding box for Africa (approximately)\n",
    "# Coordinates are (min_latitude, min_longitude, max_latitude, max_longitude)\n",
    "bbox = (-35.0, -26.0, 38.0, 59.0)\n",
    "\n",
    "# Function to create a grid of bounding boxes\n",
    "def create_bbox_grid(min_lat, min_lon, max_lat, max_lon, n):\n",
    "    lat_points = np.linspace(min_lat, max_lat, n+1)\n",
    "    lon_points = np.linspace(min_lon, max_lon, n+1)\n",
    "    bboxes = []\n",
    "    for i in range(n):\n",
    "        for j in range(n):\n",
    "            bboxes.append((lat_points[i], lon_points[j], lat_points[i+1], lon_points[j+1]))\n",
    "    return bboxes\n",
    "\n",
    "# Define the number of divisions per side\n",
    "divisions = 2\n",
    "bboxes = create_bbox_grid(bbox[0], bbox[1], bbox[2], bbox[3], divisions)\n",
    "\n",
    "\n",
    "# Function to fetch data for a given bounding box\n",
    "def fetch_bbox_data(bbox):\n",
    "    print(bbox)\n",
    "    overpass_query = f\"\"\"\n",
    "    [out:json][timeout:3600];\n",
    "    (\n",
    "      way[\"highway\"~\"motorway|trunk|primary|secondary|tertiary\"]({bbox[0]},{bbox[1]},{bbox[2]},{bbox[3]});\n",
    "      node(w);\n",
    "    );\n",
    "    out body;\n",
    "    >;\n",
    "    \"\"\"\n",
    "    response = requests.get(overpass_url, params={'data': overpass_query})\n",
    "    data = response.json()\n",
    "    nodes = {element['id']: (element['lon'], element['lat']) for element in data['elements'] if element['type'] == 'node'}\n",
    "    \n",
    "    def extract_attributes(element):\n",
    "        tags = element.get('tags', {})\n",
    "        node_ids = element.get('nodes', [])\n",
    "        coords = [nodes[node_id] for node_id in node_ids if node_id in nodes]\n",
    "        return {\n",
    "            'osmid': element['id'],\n",
    "            'highway': tags.get('highway'),\n",
    "            'surface': tags.get('surface'),\n",
    "            'width': tags.get('width'),\n",
    "            'lanes': tags.get('lanes'),\n",
    "            'oneway': tags.get('oneway', 'no') == 'yes',\n",
    "            'geometry': LineString(coords) if coords else None\n",
    "        }\n",
    "\n",
    "    ways = [extract_attributes(element) for element in data['elements'] if element['type'] == 'way']\n",
    "    gdf_edges = gpd.GeoDataFrame([way for way in ways if way['geometry'] is not None])\n",
    "    gdf_edges.set_crs(epsg=4326, inplace=True)\n",
    "    \n",
    "    return gdf_edges\n",
    "\n",
    "# Fetch data for all bounding boxes and combine\n",
    "gdfs = [fetch_bbox_data(bbox) for bbox in bboxes]\n",
    "gdf_combined = gpd.GeoDataFrame(pd.concat(gdfs, ignore_index=True))\n",
    "\n",
    "# Check the size of the resulting GeoDataFrame\n",
    "print(f\"Number of rows: {gdf_combined.shape[0]}\")\n",
    "\n",
    "# Print detailed info about the GeoDataFrame\n",
    "print(gdf_combined.info())\n",
    "\n",
    "output_filename = \"data/Africa_roads_raw.shp\"\n",
    "# Save the GeoDataFrame to a shapefile\n",
    "gdf_combined.to_file(output_filename)"
   ]
  }
 ],
 "metadata": {
  "kernelspec": {
   "display_name": "gee",
   "language": "python",
   "name": "gee"
  },
  "language_info": {
   "codemirror_mode": {
    "name": "ipython",
    "version": 3
   },
   "file_extension": ".py",
   "mimetype": "text/x-python",
   "name": "python",
   "nbconvert_exporter": "python",
   "pygments_lexer": "ipython3",
   "version": "3.8.13"
  },
  "toc": {
   "base_numbering": 1,
   "nav_menu": {},
   "number_sections": true,
   "sideBar": true,
   "skip_h1_title": false,
   "title_cell": "Table of Contents",
   "title_sidebar": "Contents",
   "toc_cell": false,
   "toc_position": {},
   "toc_section_display": true,
   "toc_window_display": false
  }
 },
 "nbformat": 4,
 "nbformat_minor": 5
}
